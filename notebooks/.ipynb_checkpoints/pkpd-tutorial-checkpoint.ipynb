{
 "cells": [
  {
   "cell_type": "markdown",
   "metadata": {},
   "source": [
    "# pkpd-tutorial\n",
    "This notebook shows some simple use cases of PKPD models.\n",
    "The tutorial must work in a minimal environment consisting of\n",
    "* `numpy`\n",
    "* `scipy`\n",
    "* `matplotlib`\n",
    "\n",
    "For questions contact konigmatt@googlemail.com. The latest version of this tutorial is available from github at https://github.com/matthiaskoenig/pkpd-tutorial"
   ]
  },
  {
   "cell_type": "code",
   "execution_count": 4,
   "metadata": {
    "collapsed": true
   },
   "outputs": [],
   "source": [
    "from __future__ import print_function\n",
    "import numpy as np\n",
    "import scipy\n",
    "from matplotlib import pylab as plt\n",
    "from scipy . integrate import odeint\n",
    "\n",
    "# global settings for plots\n",
    "plt.rcParams.update({\n",
    "        'axes.labelsize': 'large', \n",
    "        'axes.labelweight': 'bold',\n",
    "        'axes.titlesize': 'large',\n",
    "        'axes.titleweight': 'bold',\n",
    "        'legend.fontsize': 'small',\n",
    "        'xtick.labelsize': 'large',\n",
    "        'ytick.labelsize': 'large',\n",
    "    })"
   ]
  },
  {
   "cell_type": "code",
   "execution_count": 6,
   "metadata": {
    "collapsed": false
   },
   "outputs": [
    {
     "data": {
      "image/png": "[encoded data removed]",
      "text/plain": [
       "<matplotlib.figure.Figure at 0x7ffab8062050>"
      ]
     },
     "metadata": {},
     "output_type": "display_data"
    }
   ],
   "source": [
    "def simple_ode (x,t):\n",
    "    # define parameters\n",
    "    c = 1.0\n",
    "    k = 2.0\n",
    "    dxdt = c - k*x\n",
    "    return dxdt\n",
    "\n",
    "# intital condition and timespan\n",
    "T = np. arange (0 ,10 ,0.1)\n",
    "X0 = 0\n",
    "X = odeint ( simple_ode ,X0 ,T)\n",
    "plt.plot (T,X, linewidth =2)\n",
    "plt.show ()"
   ]
  },
  {
   "cell_type": "code",
   "execution_count": null,
   "metadata": {
    "collapsed": true
   },
   "outputs": [],
   "source": [
    "# ode system for the caffeine model (dxdt)\n",
    "\n",
    "\n",
    "\n",
    "\n",
    "\n",
    "\n"
   ]
  },
  {
   "cell_type": "code",
   "execution_count": null,
   "metadata": {
    "collapsed": true
   },
   "outputs": [],
   "source": []
  },
  {
   "cell_type": "code",
   "execution_count": 1,
   "metadata": {
    "collapsed": true
   },
   "outputs": [],
   "source": [
    "# Estimation of your caffeine level\n",
    "figures caffeine_doses.png"
   ]
  },
  {
   "cell_type": "code",
   "execution_count": 4,
   "metadata": {
    "collapsed": true
   },
   "outputs": [],
   "source": [
    "# load the example model\n",
    "\n",
    "\n",
    "\n"
   ]
  },
  {
   "cell_type": "code",
   "execution_count": 5,
   "metadata": {
    "collapsed": true
   },
   "outputs": [],
   "source": [
    "# simulate the example model\n",
    "\n"
   ]
  },
  {
   "cell_type": "code",
   "execution_count": 6,
   "metadata": {
    "collapsed": true
   },
   "outputs": [],
   "source": [
    "# plot the results"
   ]
  },
  {
   "cell_type": "code",
   "execution_count": null,
   "metadata": {
    "collapsed": true
   },
   "outputs": [],
   "source": []
  }
 ],
 "metadata": {
  "kernelspec": {
   "display_name": "Python 2",
   "language": "python",
   "name": "python2"
  },
  "language_info": {
   "codemirror_mode": {
    "name": "ipython",
    "version": 2
   },
   "file_extension": ".py",
   "mimetype": "text/x-python",
   "name": "python",
   "nbconvert_exporter": "python",
   "pygments_lexer": "ipython2",
   "version": "2.7.6"
  }
 },
 "nbformat": 4,
 "nbformat_minor": 2
}
