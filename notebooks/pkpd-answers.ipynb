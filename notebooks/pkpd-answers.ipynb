{
 "cells": [
  {
   "cell_type": "code",
   "execution_count": null,
   "metadata": {},
   "outputs": [],
   "source": [
    "## A1 Your caffeine level"
   ]
  },
  {
   "cell_type": "code",
   "execution_count": null,
   "metadata": {},
   "outputs": [],
   "source": [
    "r.reset(roadrunner.SelectionRecord.ALL)\n",
    "\n",
    "# set the oral dose\n",
    "# r['init(PODOSE_caf)'] = 100\n",
    "r['init(IVDOSE_caf)'] = 100  # [mg]\n",
    "\n",
    "# simulate the model for 24[h]\n",
    "s = simulate(r, start=0, end=24, steps=500)\n",
    "\n",
    "# show the resulting DataFrame\n",
    "\n",
    "# plot venous caffeine & paraxanthine against time\n",
    "f1, ax1 = plt.subplots(1, 1, figsize=(5, 5))\n",
    "ax1.plot(s.time, s.Cve_caf, linewidth=2, label=\"caffeine [mg/l]\")\n",
    "ax1.plot(s.time, s.Cve_px, linewidth=2, label=\"paraxanthine [mg/l]\")\n",
    "ax1.set_title('100 [mg] caffeine (oral dose)')\n",
    "ax1.set_ylabel('concentration')\n",
    "ax1.set_xlabel('time [h]')\n",
    "ax1.legend()\n",
    "plt.show()"
   ]
  }
 ],
 "metadata": {
  "kernelspec": {
   "display_name": "pkpd-tutorial",
   "language": "python",
   "name": "pkpd-tutorial"
  },
  "language_info": {
   "codemirror_mode": {
    "name": "ipython",
    "version": 2
   },
   "file_extension": ".py",
   "mimetype": "text/x-python",
   "name": "python",
   "nbconvert_exporter": "python",
   "pygments_lexer": "ipython2",
   "version": "2.7.12"
  }
 },
 "nbformat": 4,
 "nbformat_minor": 2
}
